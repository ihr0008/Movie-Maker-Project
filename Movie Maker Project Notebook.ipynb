{
 "cells": [
  {
   "cell_type": "markdown",
   "metadata": {},
   "source": [
    "# <div align=\"center\"> Movie Maker Project Notebook </div>\n",
    "\n",
    "  ###   <div align=\"center\"> by Isaac Revette </div> "
   ]
  },
  {
   "cell_type": "markdown",
   "metadata": {},
   "source": [
    "## Step 1: Get Info from IMDB"
   ]
  },
  {
   "cell_type": "code",
   "execution_count": 22,
   "metadata": {
    "ExecuteTime": {
     "end_time": "2020-02-08T17:03:00.341817Z",
     "start_time": "2020-02-08T17:03:00.327828Z"
    }
   },
   "outputs": [
    {
     "data": {
      "text/plain": [
       "['airing',\n",
       " 'akas',\n",
       " 'alternate versions',\n",
       " 'awards',\n",
       " 'connections',\n",
       " 'crazy credits',\n",
       " 'critic reviews',\n",
       " 'episodes',\n",
       " 'external reviews',\n",
       " 'external sites',\n",
       " 'faqs',\n",
       " 'full credits',\n",
       " 'goofs',\n",
       " 'keywords',\n",
       " 'locations',\n",
       " 'main',\n",
       " 'misc sites',\n",
       " 'news',\n",
       " 'official sites',\n",
       " 'parents guide',\n",
       " 'photo sites',\n",
       " 'plot',\n",
       " 'quotes',\n",
       " 'release dates',\n",
       " 'release info',\n",
       " 'reviews',\n",
       " 'sound clips',\n",
       " 'soundtrack',\n",
       " 'synopsis',\n",
       " 'taglines',\n",
       " 'technical',\n",
       " 'trivia',\n",
       " 'tv schedule',\n",
       " 'video clips',\n",
       " 'vote details']"
      ]
     },
     "execution_count": 22,
     "metadata": {},
     "output_type": "execute_result"
    }
   ],
   "source": [
    "from imdb import IMDb\n",
    "\n",
    "# create an instance of the IMDb class\n",
    "ia = IMDb()\n",
    "ia.get_movie_infoset()"
   ]
  },
  {
   "cell_type": "code",
   "execution_count": 53,
   "metadata": {
    "ExecuteTime": {
     "end_time": "2020-02-08T17:15:55.925447Z",
     "start_time": "2020-02-08T17:15:52.796110Z"
    }
   },
   "outputs": [],
   "source": [
    "#Test with The Matrix\n",
    "\n",
    "theMatrix = ia.search_movie('matrix')\n",
    "#movie = ia.get(theMatrix['title'])\n",
    "movie = ia.get_movie(theMatrix[0].movieID, info =['main', 'plot'])"
   ]
  },
  {
   "cell_type": "code",
   "execution_count": 59,
   "metadata": {
    "ExecuteTime": {
     "end_time": "2020-02-08T17:18:23.840295Z",
     "start_time": "2020-02-08T17:18:23.835282Z"
    },
    "scrolled": true
   },
   "outputs": [
    {
     "data": {
      "text/plain": [
       "{'main': ['cast',\n",
       "  'genres',\n",
       "  'runtimes',\n",
       "  'countries',\n",
       "  'country codes',\n",
       "  'language codes',\n",
       "  'color info',\n",
       "  'aspect ratio',\n",
       "  'sound mix',\n",
       "  'box office',\n",
       "  'certificates',\n",
       "  'original air date',\n",
       "  'rating',\n",
       "  'votes',\n",
       "  'cover url',\n",
       "  'plot outline',\n",
       "  'languages',\n",
       "  'title',\n",
       "  'year',\n",
       "  'kind',\n",
       "  'directors',\n",
       "  'writers',\n",
       "  'producers',\n",
       "  'composers',\n",
       "  'cinematographers',\n",
       "  'editors',\n",
       "  'editorial department',\n",
       "  'casting directors',\n",
       "  'production designers',\n",
       "  'art directors',\n",
       "  'set decorators',\n",
       "  'costume designers',\n",
       "  'make up department',\n",
       "  'production managers',\n",
       "  'assistant directors',\n",
       "  'art department',\n",
       "  'sound department',\n",
       "  'special effects',\n",
       "  'visual effects',\n",
       "  'stunts',\n",
       "  'camera department',\n",
       "  'animation department',\n",
       "  'casting department',\n",
       "  'costume departmen',\n",
       "  'location management',\n",
       "  'music department',\n",
       "  'script department',\n",
       "  'transportation department',\n",
       "  'miscellaneous',\n",
       "  'akas',\n",
       "  'writer',\n",
       "  'director',\n",
       "  'top 250 rank',\n",
       "  'production companies',\n",
       "  'distributors',\n",
       "  'special effects companies',\n",
       "  'other companies'],\n",
       " 'plot': ['plot', 'synopsis']}"
      ]
     },
     "execution_count": 59,
     "metadata": {},
     "output_type": "execute_result"
    }
   ],
   "source": [
    "#movie.get('synopsis')\n",
    "\n",
    "movie.infoset2keys\n",
    "#movie.get('main')"
   ]
  },
  {
   "cell_type": "markdown",
   "metadata": {},
   "source": [
    "## Connect to Local Postgres Server and Load Data\n",
    " - MovieID\n",
    " - MovieTitle\n",
    " - BoxOffice\n",
    " - PlotOutline\n",
    " - CoverURL"
   ]
  },
  {
   "cell_type": "code",
   "execution_count": 63,
   "metadata": {
    "ExecuteTime": {
     "end_time": "2020-02-08T17:43:44.485491Z",
     "start_time": "2020-02-08T17:43:44.395888Z"
    }
   },
   "outputs": [],
   "source": [
    "import psycopg2\n",
    "\n",
    "#Connect to IMDB Database\n",
    "\n",
    "connection = psycopg2.connect(\n",
    "    host=\"localhost\",\n",
    "    database=\"IMDB Data\",\n",
    "    user=\"postgres\",\n",
    "    password= 'Jdwmfasb1',\n",
    "    port = '2130'\n",
    ")\n",
    "connection.autocommit = True #Every command takes effect instantly"
   ]
  },
  {
   "cell_type": "code",
   "execution_count": null,
   "metadata": {},
   "outputs": [],
   "source": []
  }
 ],
 "metadata": {
  "kernelspec": {
   "display_name": "Python 3",
   "language": "python",
   "name": "python3"
  },
  "language_info": {
   "codemirror_mode": {
    "name": "ipython",
    "version": 3
   },
   "file_extension": ".py",
   "mimetype": "text/x-python",
   "name": "python",
   "nbconvert_exporter": "python",
   "pygments_lexer": "ipython3",
   "version": "3.7.3"
  },
  "toc": {
   "base_numbering": 1,
   "nav_menu": {},
   "number_sections": false,
   "sideBar": false,
   "skip_h1_title": false,
   "title_cell": "Table of Contents",
   "title_sidebar": "Contents",
   "toc_cell": false,
   "toc_position": {},
   "toc_section_display": false,
   "toc_window_display": false
  },
  "varInspector": {
   "cols": {
    "lenName": 16,
    "lenType": 16,
    "lenVar": 40
   },
   "kernels_config": {
    "python": {
     "delete_cmd_postfix": "",
     "delete_cmd_prefix": "del ",
     "library": "var_list.py",
     "varRefreshCmd": "print(var_dic_list())"
    },
    "r": {
     "delete_cmd_postfix": ") ",
     "delete_cmd_prefix": "rm(",
     "library": "var_list.r",
     "varRefreshCmd": "cat(var_dic_list()) "
    }
   },
   "types_to_exclude": [
    "module",
    "function",
    "builtin_function_or_method",
    "instance",
    "_Feature"
   ],
   "window_display": false
  }
 },
 "nbformat": 4,
 "nbformat_minor": 2
}
